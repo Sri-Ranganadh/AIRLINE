{
 "cells": [
  {
   "cell_type": "code",
   "execution_count": 31,
   "id": "b9b7f561",
   "metadata": {
    "id": "b9b7f561"
   },
   "outputs": [],
   "source": [
    "\n",
    "import pandas as pd\n",
    "import numpy as np \n",
    "import matplotlib.pyplot as plt \n",
    "import seaborn as sns\n",
    "%matplotlib inline"
   ]
  },
  {
   "cell_type": "markdown",
   "id": "Wst6jFzCiY7a",
   "metadata": {
    "id": "Wst6jFzCiY7a"
   },
   "source": []
  },
  {
   "cell_type": "code",
   "execution_count": 32,
   "id": "4c601b31",
   "metadata": {
    "id": "4c601b31"
   },
   "outputs": [],
   "source": [
    "data1=pd.read_csv(\"train.csv\")\n",
    "data2=pd.read_csv(\"test.csv\")\n",
    "data = pd.concat([data1,data2],axis=0)"
   ]
  },
  {
   "cell_type": "code",
   "execution_count": 33,
   "id": "5b44ef37",
   "metadata": {
    "colab": {
     "base_uri": "https://localhost:8080/",
     "height": 438
    },
    "executionInfo": {
     "elapsed": 924,
     "status": "ok",
     "timestamp": 1681755999034,
     "user": {
      "displayName": "Tekkem Ganesh",
      "userId": "17285110571201616309"
     },
     "user_tz": -330
    },
    "id": "5b44ef37",
    "outputId": "4dd05dad-54f5-4ae3-d872-3d6097938d16"
   },
   "outputs": [
    {
     "data": {
      "text/html": [
       "<div>\n",
       "<style scoped>\n",
       "    .dataframe tbody tr th:only-of-type {\n",
       "        vertical-align: middle;\n",
       "    }\n",
       "\n",
       "    .dataframe tbody tr th {\n",
       "        vertical-align: top;\n",
       "    }\n",
       "\n",
       "    .dataframe thead th {\n",
       "        text-align: right;\n",
       "    }\n",
       "</style>\n",
       "<table border=\"1\" class=\"dataframe\">\n",
       "  <thead>\n",
       "    <tr style=\"text-align: right;\">\n",
       "      <th></th>\n",
       "      <th>Unnamed: 0</th>\n",
       "      <th>id</th>\n",
       "      <th>Gender</th>\n",
       "      <th>Customer Type</th>\n",
       "      <th>Age</th>\n",
       "      <th>Type of Travel</th>\n",
       "      <th>Class</th>\n",
       "      <th>Flight Distance</th>\n",
       "      <th>Inflight wifi service</th>\n",
       "      <th>Departure/Arrival time convenient</th>\n",
       "      <th>...</th>\n",
       "      <th>Inflight entertainment</th>\n",
       "      <th>On-board service</th>\n",
       "      <th>Leg room service</th>\n",
       "      <th>Baggage handling</th>\n",
       "      <th>Checkin service</th>\n",
       "      <th>Inflight service</th>\n",
       "      <th>Cleanliness</th>\n",
       "      <th>Departure Delay in Minutes</th>\n",
       "      <th>Arrival Delay in Minutes</th>\n",
       "      <th>satisfaction</th>\n",
       "    </tr>\n",
       "  </thead>\n",
       "  <tbody>\n",
       "    <tr>\n",
       "      <th>0</th>\n",
       "      <td>0</td>\n",
       "      <td>70172</td>\n",
       "      <td>Male</td>\n",
       "      <td>Loyal Customer</td>\n",
       "      <td>13</td>\n",
       "      <td>Personal Travel</td>\n",
       "      <td>Eco Plus</td>\n",
       "      <td>460</td>\n",
       "      <td>3</td>\n",
       "      <td>4</td>\n",
       "      <td>...</td>\n",
       "      <td>5</td>\n",
       "      <td>4</td>\n",
       "      <td>3</td>\n",
       "      <td>4</td>\n",
       "      <td>4</td>\n",
       "      <td>5</td>\n",
       "      <td>5</td>\n",
       "      <td>25</td>\n",
       "      <td>18.0</td>\n",
       "      <td>neutral or dissatisfied</td>\n",
       "    </tr>\n",
       "    <tr>\n",
       "      <th>1</th>\n",
       "      <td>1</td>\n",
       "      <td>5047</td>\n",
       "      <td>Male</td>\n",
       "      <td>disloyal Customer</td>\n",
       "      <td>25</td>\n",
       "      <td>Business travel</td>\n",
       "      <td>Business</td>\n",
       "      <td>235</td>\n",
       "      <td>3</td>\n",
       "      <td>2</td>\n",
       "      <td>...</td>\n",
       "      <td>1</td>\n",
       "      <td>1</td>\n",
       "      <td>5</td>\n",
       "      <td>3</td>\n",
       "      <td>1</td>\n",
       "      <td>4</td>\n",
       "      <td>1</td>\n",
       "      <td>1</td>\n",
       "      <td>6.0</td>\n",
       "      <td>neutral or dissatisfied</td>\n",
       "    </tr>\n",
       "    <tr>\n",
       "      <th>2</th>\n",
       "      <td>2</td>\n",
       "      <td>110028</td>\n",
       "      <td>Female</td>\n",
       "      <td>Loyal Customer</td>\n",
       "      <td>26</td>\n",
       "      <td>Business travel</td>\n",
       "      <td>Business</td>\n",
       "      <td>1142</td>\n",
       "      <td>2</td>\n",
       "      <td>2</td>\n",
       "      <td>...</td>\n",
       "      <td>5</td>\n",
       "      <td>4</td>\n",
       "      <td>3</td>\n",
       "      <td>4</td>\n",
       "      <td>4</td>\n",
       "      <td>4</td>\n",
       "      <td>5</td>\n",
       "      <td>0</td>\n",
       "      <td>0.0</td>\n",
       "      <td>satisfied</td>\n",
       "    </tr>\n",
       "    <tr>\n",
       "      <th>3</th>\n",
       "      <td>3</td>\n",
       "      <td>24026</td>\n",
       "      <td>Female</td>\n",
       "      <td>Loyal Customer</td>\n",
       "      <td>25</td>\n",
       "      <td>Business travel</td>\n",
       "      <td>Business</td>\n",
       "      <td>562</td>\n",
       "      <td>2</td>\n",
       "      <td>5</td>\n",
       "      <td>...</td>\n",
       "      <td>2</td>\n",
       "      <td>2</td>\n",
       "      <td>5</td>\n",
       "      <td>3</td>\n",
       "      <td>1</td>\n",
       "      <td>4</td>\n",
       "      <td>2</td>\n",
       "      <td>11</td>\n",
       "      <td>9.0</td>\n",
       "      <td>neutral or dissatisfied</td>\n",
       "    </tr>\n",
       "    <tr>\n",
       "      <th>4</th>\n",
       "      <td>4</td>\n",
       "      <td>119299</td>\n",
       "      <td>Male</td>\n",
       "      <td>Loyal Customer</td>\n",
       "      <td>61</td>\n",
       "      <td>Business travel</td>\n",
       "      <td>Business</td>\n",
       "      <td>214</td>\n",
       "      <td>3</td>\n",
       "      <td>3</td>\n",
       "      <td>...</td>\n",
       "      <td>3</td>\n",
       "      <td>3</td>\n",
       "      <td>4</td>\n",
       "      <td>4</td>\n",
       "      <td>3</td>\n",
       "      <td>3</td>\n",
       "      <td>3</td>\n",
       "      <td>0</td>\n",
       "      <td>0.0</td>\n",
       "      <td>satisfied</td>\n",
       "    </tr>\n",
       "  </tbody>\n",
       "</table>\n",
       "<p>5 rows × 25 columns</p>\n",
       "</div>"
      ],
      "text/plain": [
       "   Unnamed: 0      id  Gender      Customer Type  Age   Type of Travel  \\\n",
       "0           0   70172    Male     Loyal Customer   13  Personal Travel   \n",
       "1           1    5047    Male  disloyal Customer   25  Business travel   \n",
       "2           2  110028  Female     Loyal Customer   26  Business travel   \n",
       "3           3   24026  Female     Loyal Customer   25  Business travel   \n",
       "4           4  119299    Male     Loyal Customer   61  Business travel   \n",
       "\n",
       "      Class  Flight Distance  Inflight wifi service  \\\n",
       "0  Eco Plus              460                      3   \n",
       "1  Business              235                      3   \n",
       "2  Business             1142                      2   \n",
       "3  Business              562                      2   \n",
       "4  Business              214                      3   \n",
       "\n",
       "   Departure/Arrival time convenient  ...  Inflight entertainment  \\\n",
       "0                                  4  ...                       5   \n",
       "1                                  2  ...                       1   \n",
       "2                                  2  ...                       5   \n",
       "3                                  5  ...                       2   \n",
       "4                                  3  ...                       3   \n",
       "\n",
       "   On-board service  Leg room service  Baggage handling  Checkin service  \\\n",
       "0                 4                 3                 4                4   \n",
       "1                 1                 5                 3                1   \n",
       "2                 4                 3                 4                4   \n",
       "3                 2                 5                 3                1   \n",
       "4                 3                 4                 4                3   \n",
       "\n",
       "   Inflight service  Cleanliness  Departure Delay in Minutes  \\\n",
       "0                 5            5                          25   \n",
       "1                 4            1                           1   \n",
       "2                 4            5                           0   \n",
       "3                 4            2                          11   \n",
       "4                 3            3                           0   \n",
       "\n",
       "   Arrival Delay in Minutes             satisfaction  \n",
       "0                      18.0  neutral or dissatisfied  \n",
       "1                       6.0  neutral or dissatisfied  \n",
       "2                       0.0                satisfied  \n",
       "3                       9.0  neutral or dissatisfied  \n",
       "4                       0.0                satisfied  \n",
       "\n",
       "[5 rows x 25 columns]"
      ]
     },
     "execution_count": 33,
     "metadata": {},
     "output_type": "execute_result"
    }
   ],
   "source": [
    "data.head(5)"
   ]
  },
  {
   "cell_type": "code",
   "execution_count": 34,
   "id": "9c28a40b",
   "metadata": {
    "colab": {
     "base_uri": "https://localhost:8080/"
    },
    "executionInfo": {
     "elapsed": 466,
     "status": "ok",
     "timestamp": 1681756040173,
     "user": {
      "displayName": "Tekkem Ganesh",
      "userId": "17285110571201616309"
     },
     "user_tz": -330
    },
    "id": "9c28a40b",
    "outputId": "90d93679-4055-4268-9603-0badd286aba0"
   },
   "outputs": [
    {
     "name": "stdout",
     "output_type": "stream",
     "text": [
      "<class 'pandas.core.frame.DataFrame'>\n",
      "Int64Index: 129880 entries, 0 to 25975\n",
      "Data columns (total 25 columns):\n",
      " #   Column                             Non-Null Count   Dtype  \n",
      "---  ------                             --------------   -----  \n",
      " 0   Unnamed: 0                         129880 non-null  int64  \n",
      " 1   id                                 129880 non-null  int64  \n",
      " 2   Gender                             129880 non-null  object \n",
      " 3   Customer Type                      129880 non-null  object \n",
      " 4   Age                                129880 non-null  int64  \n",
      " 5   Type of Travel                     129880 non-null  object \n",
      " 6   Class                              129880 non-null  object \n",
      " 7   Flight Distance                    129880 non-null  int64  \n",
      " 8   Inflight wifi service              129880 non-null  int64  \n",
      " 9   Departure/Arrival time convenient  129880 non-null  int64  \n",
      " 10  Ease of Online booking             129880 non-null  int64  \n",
      " 11  Gate location                      129880 non-null  int64  \n",
      " 12  Food and drink                     129880 non-null  int64  \n",
      " 13  Online boarding                    129880 non-null  int64  \n",
      " 14  Seat comfort                       129880 non-null  int64  \n",
      " 15  Inflight entertainment             129880 non-null  int64  \n",
      " 16  On-board service                   129880 non-null  int64  \n",
      " 17  Leg room service                   129880 non-null  int64  \n",
      " 18  Baggage handling                   129880 non-null  int64  \n",
      " 19  Checkin service                    129880 non-null  int64  \n",
      " 20  Inflight service                   129880 non-null  int64  \n",
      " 21  Cleanliness                        129880 non-null  int64  \n",
      " 22  Departure Delay in Minutes         129880 non-null  int64  \n",
      " 23  Arrival Delay in Minutes           129487 non-null  float64\n",
      " 24  satisfaction                       129880 non-null  object \n",
      "dtypes: float64(1), int64(19), object(5)\n",
      "memory usage: 25.8+ MB\n",
      "None\n"
     ]
    }
   ],
   "source": [
    "print(data.info())"
   ]
  },
  {
   "cell_type": "code",
   "execution_count": 35,
   "id": "9d23ac93",
   "metadata": {
    "id": "9d23ac93"
   },
   "outputs": [],
   "source": [
    "del data[\"Unnamed: 0\"]\n",
    "del data[\"id\"]\n"
   ]
  },
  {
   "cell_type": "code",
   "execution_count": 36,
   "id": "81c2065a",
   "metadata": {
    "colab": {
     "base_uri": "https://localhost:8080/"
    },
    "executionInfo": {
     "elapsed": 10,
     "status": "ok",
     "timestamp": 1681756051979,
     "user": {
      "displayName": "Tekkem Ganesh",
      "userId": "17285110571201616309"
     },
     "user_tz": -330
    },
    "id": "81c2065a",
    "outputId": "32fa834b-45b4-44b3-9c6d-5d1293c9ef86"
   },
   "outputs": [
    {
     "name": "stdout",
     "output_type": "stream",
     "text": [
      "Gender                                 0\n",
      "Customer Type                          0\n",
      "Age                                    0\n",
      "Type of Travel                         0\n",
      "Class                                  0\n",
      "Flight Distance                        0\n",
      "Inflight wifi service                  0\n",
      "Departure/Arrival time convenient      0\n",
      "Ease of Online booking                 0\n",
      "Gate location                          0\n",
      "Food and drink                         0\n",
      "Online boarding                        0\n",
      "Seat comfort                           0\n",
      "Inflight entertainment                 0\n",
      "On-board service                       0\n",
      "Leg room service                       0\n",
      "Baggage handling                       0\n",
      "Checkin service                        0\n",
      "Inflight service                       0\n",
      "Cleanliness                            0\n",
      "Departure Delay in Minutes             0\n",
      "Arrival Delay in Minutes             393\n",
      "satisfaction                           0\n",
      "dtype: int64\n"
     ]
    }
   ],
   "source": [
    "print(data.isnull().sum())"
   ]
  },
  {
   "cell_type": "code",
   "execution_count": 37,
   "id": "e16265fc",
   "metadata": {
    "id": "e16265fc"
   },
   "outputs": [],
   "source": [
    "from sklearn.impute import SimpleImputer\n",
    "imputer_int=SimpleImputer(missing_values=np.nan)\n",
    "data['Arrival Delay in Minutes'] = imputer_int.fit_transform(data[['Arrival Delay in Minutes']])\n"
   ]
  },
  {
   "cell_type": "code",
   "execution_count": 38,
   "id": "af5468bf",
   "metadata": {
    "colab": {
     "base_uri": "https://localhost:8080/"
    },
    "executionInfo": {
     "elapsed": 450,
     "status": "ok",
     "timestamp": 1681756069358,
     "user": {
      "displayName": "Tekkem Ganesh",
      "userId": "17285110571201616309"
     },
     "user_tz": -330
    },
    "id": "af5468bf",
    "outputId": "80d1ba0c-e923-4786-aa70-38215ce6fc1e"
   },
   "outputs": [
    {
     "data": {
      "text/plain": [
       "Gender                               0\n",
       "Customer Type                        0\n",
       "Age                                  0\n",
       "Type of Travel                       0\n",
       "Class                                0\n",
       "Flight Distance                      0\n",
       "Inflight wifi service                0\n",
       "Departure/Arrival time convenient    0\n",
       "Ease of Online booking               0\n",
       "Gate location                        0\n",
       "Food and drink                       0\n",
       "Online boarding                      0\n",
       "Seat comfort                         0\n",
       "Inflight entertainment               0\n",
       "On-board service                     0\n",
       "Leg room service                     0\n",
       "Baggage handling                     0\n",
       "Checkin service                      0\n",
       "Inflight service                     0\n",
       "Cleanliness                          0\n",
       "Departure Delay in Minutes           0\n",
       "Arrival Delay in Minutes             0\n",
       "satisfaction                         0\n",
       "dtype: int64"
      ]
     },
     "execution_count": 38,
     "metadata": {},
     "output_type": "execute_result"
    }
   ],
   "source": [
    "data.isnull().sum()"
   ]
  },
  {
   "cell_type": "code",
   "execution_count": 39,
   "id": "a243092a",
   "metadata": {
    "id": "a243092a"
   },
   "outputs": [],
   "source": [
    "from sklearn.preprocessing import LabelEncoder\n",
    "LE=LabelEncoder()\n",
    "data[\"Gender\"]=LE.fit_transform(data[\"Gender\"])\n",
    "data[\"Customer Type\"]=LE.fit_transform(data[\"Customer Type\"])\n",
    "data[\"Type of Travel\"]=LE.fit_transform(data[\"Type of Travel\"])\n",
    "data[\"Class\"]=LE.fit_transform(data[\"Class\"])\n",
    "data[\"satisfaction\"]=LE.fit_transform(data[\"satisfaction\"])"
   ]
  },
  {
   "cell_type": "code",
   "execution_count": 40,
   "id": "15cd265a",
   "metadata": {
    "colab": {
     "base_uri": "https://localhost:8080/"
    },
    "executionInfo": {
     "elapsed": 488,
     "status": "ok",
     "timestamp": 1681756084711,
     "user": {
      "displayName": "Tekkem Ganesh",
      "userId": "17285110571201616309"
     },
     "user_tz": -330
    },
    "id": "15cd265a",
    "outputId": "0afad328-97de-4fad-af50-616a54bbcbb0",
    "scrolled": false
   },
   "outputs": [
    {
     "name": "stdout",
     "output_type": "stream",
     "text": [
      "<class 'pandas.core.frame.DataFrame'>\n",
      "Int64Index: 129880 entries, 0 to 25975\n",
      "Data columns (total 23 columns):\n",
      " #   Column                             Non-Null Count   Dtype  \n",
      "---  ------                             --------------   -----  \n",
      " 0   Gender                             129880 non-null  int32  \n",
      " 1   Customer Type                      129880 non-null  int32  \n",
      " 2   Age                                129880 non-null  int64  \n",
      " 3   Type of Travel                     129880 non-null  int32  \n",
      " 4   Class                              129880 non-null  int32  \n",
      " 5   Flight Distance                    129880 non-null  int64  \n",
      " 6   Inflight wifi service              129880 non-null  int64  \n",
      " 7   Departure/Arrival time convenient  129880 non-null  int64  \n",
      " 8   Ease of Online booking             129880 non-null  int64  \n",
      " 9   Gate location                      129880 non-null  int64  \n",
      " 10  Food and drink                     129880 non-null  int64  \n",
      " 11  Online boarding                    129880 non-null  int64  \n",
      " 12  Seat comfort                       129880 non-null  int64  \n",
      " 13  Inflight entertainment             129880 non-null  int64  \n",
      " 14  On-board service                   129880 non-null  int64  \n",
      " 15  Leg room service                   129880 non-null  int64  \n",
      " 16  Baggage handling                   129880 non-null  int64  \n",
      " 17  Checkin service                    129880 non-null  int64  \n",
      " 18  Inflight service                   129880 non-null  int64  \n",
      " 19  Cleanliness                        129880 non-null  int64  \n",
      " 20  Departure Delay in Minutes         129880 non-null  int64  \n",
      " 21  Arrival Delay in Minutes           129880 non-null  float64\n",
      " 22  satisfaction                       129880 non-null  int32  \n",
      "dtypes: float64(1), int32(5), int64(17)\n",
      "memory usage: 21.3 MB\n"
     ]
    }
   ],
   "source": [
    "data.info()"
   ]
  },
  {
   "cell_type": "code",
   "execution_count": 41,
   "id": "6ef8240a",
   "metadata": {
    "id": "6ef8240a"
   },
   "outputs": [],
   "source": [
    "IndepVar = []\n",
    "for col in data.columns:\n",
    "    if col != 'satisfaction':\n",
    "        IndepVar.append(col)\n",
    "\n",
    "TargetVar = 'satisfaction'\n",
    "\n",
    "x = data[IndepVar]\n",
    "y = data[TargetVar]"
   ]
  },
  {
   "cell_type": "code",
   "execution_count": 42,
   "id": "28eedfa3",
   "metadata": {
    "colab": {
     "base_uri": "https://localhost:8080/"
    },
    "executionInfo": {
     "elapsed": 481,
     "status": "ok",
     "timestamp": 1681756092709,
     "user": {
      "displayName": "Tekkem Ganesh",
      "userId": "17285110571201616309"
     },
     "user_tz": -330
    },
    "id": "28eedfa3",
    "outputId": "bf01de91-f195-4aeb-e7e5-ec87a9173627",
    "scrolled": true
   },
   "outputs": [
    {
     "data": {
      "text/plain": [
       "Index(['Gender', 'Customer Type', 'Age', 'Type of Travel', 'Class',\n",
       "       'Flight Distance', 'Inflight wifi service',\n",
       "       'Departure/Arrival time convenient', 'Ease of Online booking',\n",
       "       'Gate location', 'Food and drink', 'Online boarding', 'Seat comfort',\n",
       "       'Inflight entertainment', 'On-board service', 'Leg room service',\n",
       "       'Baggage handling', 'Checkin service', 'Inflight service',\n",
       "       'Cleanliness', 'Departure Delay in Minutes',\n",
       "       'Arrival Delay in Minutes'],\n",
       "      dtype='object')"
      ]
     },
     "execution_count": 42,
     "metadata": {},
     "output_type": "execute_result"
    }
   ],
   "source": [
    "x.columns"
   ]
  },
  {
   "cell_type": "code",
   "execution_count": 44,
   "id": "a1f51b14",
   "metadata": {
    "id": "a1f51b14"
   },
   "outputs": [],
   "source": [
    "corr = data.corr()"
   ]
  },
  {
   "cell_type": "code",
   "execution_count": 45,
   "id": "e2ecacb9",
   "metadata": {
    "colab": {
     "base_uri": "https://localhost:8080/",
     "height": 676
    },
    "executionInfo": {
     "elapsed": 2612,
     "status": "ok",
     "timestamp": 1681756103758,
     "user": {
      "displayName": "Tekkem Ganesh",
      "userId": "17285110571201616309"
     },
     "user_tz": -330
    },
    "id": "e2ecacb9",
    "outputId": "00684913-9f0f-4652-e9b3-f31e57cc888d",
    "scrolled": false
   },
   "outputs": [
    {
     "data": {
      "text/plain": [
       "<AxesSubplot:>"
      ]
     },
     "execution_count": 45,
     "metadata": {},
     "output_type": "execute_result"
    },
    {
     "data": {
      "image/png": "[encoded data removed]",
      "text/plain": [
       "<Figure size 640x480 with 2 Axes>"
      ]
     },
     "metadata": {},
     "output_type": "display_data"
    }
   ],
   "source": [
    "sns.heatmap(corr)\n"
   ]
  },
  {
   "cell_type": "code",
   "execution_count": 46,
   "id": "e2ab2afc",
   "metadata": {
    "id": "e2ab2afc"
   },
   "outputs": [],
   "source": [
    "from sklearn.model_selection import train_test_split\n",
    "x_train,x_test, y_train, y_test=train_test_split(x,y,test_size=0.33,random_state=0)\n"
   ]
  },
  {
   "cell_type": "code",
   "execution_count": 47,
   "id": "3152f152",
   "metadata": {
    "id": "3152f152"
   },
   "outputs": [],
   "source": [
    "from sklearn.preprocessing import StandardScaler\n",
    "sc=StandardScaler()\n",
    "x_train=sc.fit_transform(x_train)\n",
    "x_test=sc.transform (x_test)"
   ]
  },
  {
   "cell_type": "code",
   "execution_count": 48,
   "id": "a72a700a",
   "metadata": {
    "colab": {
     "base_uri": "https://localhost:8080/"
    },
    "executionInfo": {
     "elapsed": 448,
     "status": "ok",
     "timestamp": 1681756119275,
     "user": {
      "displayName": "Tekkem Ganesh",
      "userId": "17285110571201616309"
     },
     "user_tz": -330
    },
    "id": "a72a700a",
    "outputId": "ea3ca052-5d49-4567-d3af-475243baf6fd",
    "scrolled": true
   },
   "outputs": [
    {
     "name": "stdout",
     "output_type": "stream",
     "text": [
      "(87019, 22) (42861, 22)\n"
     ]
    }
   ],
   "source": [
    "print(x_train.shape,x_test.shape)"
   ]
  },
  {
   "cell_type": "markdown",
   "id": "07d139ee",
   "metadata": {
    "id": "07d139ee"
   },
   "source": [
    "# Selecting Meaningful Features"
   ]
  },
  {
   "cell_type": "code",
   "execution_count": 19,
   "id": "7af80cae",
   "metadata": {
    "colab": {
     "base_uri": "https://localhost:8080/"
    },
    "executionInfo": {
     "elapsed": 463,
     "status": "ok",
     "timestamp": 1681756127813,
     "user": {
      "displayName": "Tekkem Ganesh",
      "userId": "17285110571201616309"
     },
     "user_tz": -330
    },
    "id": "7af80cae",
    "outputId": "6c094d8b-fd15-4489-e29a-e95112ca8e51"
   },
   "outputs": [
    {
     "name": "stdout",
     "output_type": "stream",
     "text": [
      "                     attribute         score\n",
      "5              Flight Distance  9.645859e+06\n",
      "21    Arrival Delay in Minutes  4.298388e+04\n",
      "20  Departure Delay in Minutes  3.293872e+04\n",
      "11             Online boarding  1.834034e+04\n",
      "3               Type of Travel  1.815163e+04\n",
      "4                        Class  1.696271e+04\n",
      "2                          Age  1.353949e+04\n",
      "13      Inflight entertainment  1.091611e+04\n",
      "12                Seat comfort  7.993086e+03\n",
      "6        Inflight wifi service  6.758345e+03\n"
     ]
    }
   ],
   "source": [
    "from sklearn.feature_selection import SelectKBest,chi2\n",
    "best = SelectKBest(score_func=chi2,k=10)\n",
    "fit = best.fit(x,y)\n",
    "scores = pd.DataFrame(fit.scores_)\n",
    "colNames = pd.DataFrame(x.columns)\n",
    "features = pd.concat([colNames,scores],axis=1)\n",
    "features.columns = ['attribute','score']\n",
    "imp_features=features.nlargest(10,'score')\n",
    "print(imp_features)"
   ]
  },
  {
   "cell_type": "code",
   "execution_count": 20,
   "id": "a6dbc52b",
   "metadata": {
    "colab": {
     "base_uri": "https://localhost:8080/"
    },
    "executionInfo": {
     "elapsed": 6,
     "status": "ok",
     "timestamp": 1681756131671,
     "user": {
      "displayName": "Tekkem Ganesh",
      "userId": "17285110571201616309"
     },
     "user_tz": -330
    },
    "id": "a6dbc52b",
    "outputId": "636fdd68-7b9d-4b24-feb9-730839539a01"
   },
   "outputs": [
    {
     "name": "stdout",
     "output_type": "stream",
     "text": [
      "   Flight Distance  Arrival Delay in Minutes  Departure Delay in Minutes  \\\n",
      "0              460                      18.0                          25   \n",
      "\n",
      "   Online boarding  Type of Travel  Class  Age  Inflight entertainment  \\\n",
      "0                3               1      2   13                       5   \n",
      "\n",
      "   Seat comfort  Inflight wifi service  \n",
      "0             5                      3  \n"
     ]
    }
   ],
   "source": [
    "c = ['Flight Distance','Arrival Delay in Minutes','Departure Delay in Minutes','Online boarding','Type of Travel','Class','Age',\n",
    "'Inflight entertainment','Seat comfort','Inflight wifi service']\n",
    "x1=data.loc[:,c]\n",
    "print(x1.head(1))"
   ]
  },
  {
   "cell_type": "code",
   "execution_count": 21,
   "id": "a1bdf61b",
   "metadata": {
    "colab": {
     "base_uri": "https://localhost:8080/",
     "height": 629
    },
    "executionInfo": {
     "elapsed": 1426,
     "status": "ok",
     "timestamp": 1681756137997,
     "user": {
      "displayName": "Tekkem Ganesh",
      "userId": "17285110571201616309"
     },
     "user_tz": -330
    },
    "id": "a1bdf61b",
    "outputId": "629f359c-fa15-4625-8957-33cbb6a9eb07"
   },
   "outputs": [
    {
     "data": {
      "text/plain": [
       "<AxesSubplot:>"
      ]
     },
     "execution_count": 21,
     "metadata": {},
     "output_type": "execute_result"
    },
    {
     "data": {
      "image/png": "[encoded data removed]",
      "text/plain": [
       "<Figure size 640x480 with 2 Axes>"
      ]
     },
     "metadata": {},
     "output_type": "display_data"
    }
   ],
   "source": [
    "x1corr = x1.corr()\n",
    "sns.heatmap(x1corr)"
   ]
  },
  {
   "cell_type": "code",
   "execution_count": 22,
   "id": "70c60b01",
   "metadata": {
    "id": "70c60b01"
   },
   "outputs": [],
   "source": [
    "from sklearn.model_selection import train_test_split\n",
    "x_train,x_test, y_train, y_test=train_test_split(x1,y,test_size=0.33,random_state=0)\n"
   ]
  },
  {
   "cell_type": "code",
   "execution_count": 23,
   "id": "088b31a6",
   "metadata": {
    "id": "088b31a6"
   },
   "outputs": [],
   "source": [
    "from sklearn.preprocessing import StandardScaler\n",
    "sc=StandardScaler()\n",
    "x_train=sc.fit_transform(x_train)\n",
    "x_test=sc.transform (x_test)"
   ]
  },
  {
   "cell_type": "code",
   "execution_count": 24,
   "id": "6ddb488a",
   "metadata": {
    "id": "6ddb488a",
    "outputId": "8d3d264c-bc3d-4846-efcf-c99c83a1801c"
   },
   "outputs": [
    {
     "name": "stdout",
     "output_type": "stream",
     "text": [
      "(87019, 10) (42861, 10)\n"
     ]
    }
   ],
   "source": [
    "print(x_train.shape,x_test.shape)"
   ]
  },
  {
   "cell_type": "code",
   "execution_count": null,
   "id": "34268c6d",
   "metadata": {
    "id": "34268c6d"
   },
   "outputs": [],
   "source": []
  },
  {
   "cell_type": "markdown",
   "id": "dee625b8",
   "metadata": {
    "id": "dee625b8"
   },
   "source": [
    "# PCA "
   ]
  },
  {
   "cell_type": "code",
   "execution_count": 25,
   "id": "427808b4",
   "metadata": {
    "id": "427808b4"
   },
   "outputs": [],
   "source": [
    "from sklearn.decomposition import PCA\n",
    "pca=PCA(n_components = 2)\n",
    "x_r=pca.fit(x).transform (x)"
   ]
  },
  {
   "cell_type": "code",
   "execution_count": 26,
   "id": "b57ccfa2",
   "metadata": {
    "id": "b57ccfa2",
    "outputId": "902c5653-a98f-4548-ffcd-3be6e995186f"
   },
   "outputs": [
    {
     "name": "stdout",
     "output_type": "stream",
     "text": [
      "[[-730.35390612    9.38687236]\n",
      " [-955.33902476  -16.04965605]\n",
      " [ -48.33502762  -21.0399969 ]\n",
      " ...\n",
      " [-362.3515567   -20.99952443]\n",
      " [ -63.35407309  -21.00030257]\n",
      " [-926.31430049  -21.0677217 ]]\n"
     ]
    }
   ],
   "source": [
    "print(x_r)"
   ]
  },
  {
   "cell_type": "code",
   "execution_count": null,
   "id": "a50bdbfd",
   "metadata": {
    "id": "a50bdbfd"
   },
   "outputs": [],
   "source": []
  },
  {
   "cell_type": "markdown",
   "id": "vvLVBAv7a20j",
   "metadata": {
    "id": "vvLVBAv7a20j"
   },
   "source": [
    "# Common Techniques to identify overfitting and underfitting:\n",
    "1.learning curves\n",
    "2.cross-validation\n",
    "3.Regularization Techniques"
   ]
  },
  {
   "cell_type": "code",
   "execution_count": 27,
   "id": "KAQnlxVlbMxR",
   "metadata": {
    "colab": {
     "base_uri": "https://localhost:8080/"
    },
    "executionInfo": {
     "elapsed": 529,
     "status": "ok",
     "timestamp": 1681756192113,
     "user": {
      "displayName": "Tekkem Ganesh",
      "userId": "17285110571201616309"
     },
     "user_tz": -330
    },
    "id": "KAQnlxVlbMxR",
    "outputId": "5dc3f5b0-be81-4159-8f66-c1158c926dba"
   },
   "outputs": [
    {
     "name": "stdout",
     "output_type": "stream",
     "text": [
      "Training accuracy: 0.8411611257311622\n",
      "Testing accuracy: 0.8430274608618558\n"
     ]
    }
   ],
   "source": [
    "#using Regularization Technique\n",
    "from sklearn.linear_model import LogisticRegression\n",
    "# Initialize logistic regression with L2 regularization\n",
    "clf = LogisticRegression(penalty='l2', C=1.0)\n",
    "# Train the model and evaluate\n",
    "clf.fit(x_train, y_train)\n",
    "train_accuracy = clf.score(x_train, y_train)\n",
    "test_accuracy = clf.score(x_test, y_test)\n",
    "print(\"Training accuracy:\", train_accuracy)\n",
    "print(\"Testing accuracy:\", test_accuracy)"
   ]
  },
  {
   "cell_type": "code",
   "execution_count": 28,
   "id": "sD9GYJdie5Sx",
   "metadata": {
    "colab": {
     "base_uri": "https://localhost:8080/"
    },
    "executionInfo": {
     "elapsed": 11319,
     "status": "ok",
     "timestamp": 1681756338977,
     "user": {
      "displayName": "Tekkem Ganesh",
      "userId": "17285110571201616309"
     },
     "user_tz": -330
    },
    "id": "sD9GYJdie5Sx",
    "outputId": "dea131f5-2433-4da0-9d23-47ff4368b2dd"
   },
   "outputs": [
    {
     "name": "stderr",
     "output_type": "stream",
     "text": [
      "C:\\Users\\srira\\anaconda3\\lib\\site-packages\\sklearn\\linear_model\\_logistic.py:814: ConvergenceWarning: lbfgs failed to converge (status=1):\n",
      "STOP: TOTAL NO. of ITERATIONS REACHED LIMIT.\n",
      "\n",
      "Increase the number of iterations (max_iter) or scale the data as shown in:\n",
      "    https://scikit-learn.org/stable/modules/preprocessing.html\n",
      "Please also refer to the documentation for alternative solver options:\n",
      "    https://scikit-learn.org/stable/modules/linear_model.html#logistic-regression\n",
      "  n_iter_i = _check_optimize_result(\n",
      "C:\\Users\\srira\\anaconda3\\lib\\site-packages\\sklearn\\linear_model\\_logistic.py:814: ConvergenceWarning: lbfgs failed to converge (status=1):\n",
      "STOP: TOTAL NO. of ITERATIONS REACHED LIMIT.\n",
      "\n",
      "Increase the number of iterations (max_iter) or scale the data as shown in:\n",
      "    https://scikit-learn.org/stable/modules/preprocessing.html\n",
      "Please also refer to the documentation for alternative solver options:\n",
      "    https://scikit-learn.org/stable/modules/linear_model.html#logistic-regression\n",
      "  n_iter_i = _check_optimize_result(\n",
      "C:\\Users\\srira\\anaconda3\\lib\\site-packages\\sklearn\\linear_model\\_logistic.py:814: ConvergenceWarning: lbfgs failed to converge (status=1):\n",
      "STOP: TOTAL NO. of ITERATIONS REACHED LIMIT.\n",
      "\n",
      "Increase the number of iterations (max_iter) or scale the data as shown in:\n",
      "    https://scikit-learn.org/stable/modules/preprocessing.html\n",
      "Please also refer to the documentation for alternative solver options:\n",
      "    https://scikit-learn.org/stable/modules/linear_model.html#logistic-regression\n",
      "  n_iter_i = _check_optimize_result(\n",
      "C:\\Users\\srira\\anaconda3\\lib\\site-packages\\sklearn\\linear_model\\_logistic.py:814: ConvergenceWarning: lbfgs failed to converge (status=1):\n",
      "STOP: TOTAL NO. of ITERATIONS REACHED LIMIT.\n",
      "\n",
      "Increase the number of iterations (max_iter) or scale the data as shown in:\n",
      "    https://scikit-learn.org/stable/modules/preprocessing.html\n",
      "Please also refer to the documentation for alternative solver options:\n",
      "    https://scikit-learn.org/stable/modules/linear_model.html#logistic-regression\n",
      "  n_iter_i = _check_optimize_result(\n"
     ]
    },
    {
     "name": "stdout",
     "output_type": "stream",
     "text": [
      "Cross-validation scores: [0.82884201 0.81817832 0.82025716 0.81729289 0.80031568]\n",
      "Mean accuracy: 0.8169772097320603\n"
     ]
    },
    {
     "name": "stderr",
     "output_type": "stream",
     "text": [
      "C:\\Users\\srira\\anaconda3\\lib\\site-packages\\sklearn\\linear_model\\_logistic.py:814: ConvergenceWarning: lbfgs failed to converge (status=1):\n",
      "STOP: TOTAL NO. of ITERATIONS REACHED LIMIT.\n",
      "\n",
      "Increase the number of iterations (max_iter) or scale the data as shown in:\n",
      "    https://scikit-learn.org/stable/modules/preprocessing.html\n",
      "Please also refer to the documentation for alternative solver options:\n",
      "    https://scikit-learn.org/stable/modules/linear_model.html#logistic-regression\n",
      "  n_iter_i = _check_optimize_result(\n"
     ]
    }
   ],
   "source": [
    "from sklearn.model_selection import cross_val_score\n",
    "# Perform cross-validation\n",
    "scores = cross_val_score(clf, x, y, cv=5)  # clf is your trained model, X is your feature data, y is your target labels\n",
    "print(\"Cross-validation scores:\", scores)\n",
    "print(\"Mean accuracy:\", np.mean(scores))"
   ]
  },
  {
   "cell_type": "markdown",
   "id": "3b251e97",
   "metadata": {},
   "source": [
    "# Applying different algorithms"
   ]
  },
  {
   "cell_type": "markdown",
   "id": "e90a2009",
   "metadata": {},
   "source": [
    "# LogisticRegression"
   ]
  },
  {
   "cell_type": "code",
   "execution_count": 49,
   "id": "d5a00bde",
   "metadata": {},
   "outputs": [
    {
     "name": "stdout",
     "output_type": "stream",
     "text": [
      "Model Name:  LogisticRegression()\n",
      "Confusion matrix : \n",
      " [[15534  3094]\n",
      " [ 2296 21937]]\n"
     ]
    }
   ],
   "source": [
    "from sklearn.linear_model import LogisticRegression\n",
    "ModelLR = LogisticRegression()\n",
    "\n",
    "    \n",
    "ModelLR.fit(x_train, y_train)\n",
    "\n",
    "y_pred = ModelLR.predict(x_test)\n",
    "\n",
    "y_pred_prob = ModelLR.predict_proba(x_test)\n",
    "\n",
    "print('Model Name: ',ModelLR )\n",
    "\n",
    "\n",
    "from sklearn.metrics import confusion_matrix\n",
    "actual = y_test\n",
    "predicted = y_pred\n",
    "matrix = confusion_matrix(actual,predicted, labels=[1,0],sample_weight=None, normalize=None)\n",
    "print('Confusion matrix : \\n', matrix)"
   ]
  },
  {
   "cell_type": "code",
   "execution_count": 52,
   "id": "c8124479",
   "metadata": {},
   "outputs": [
    {
     "name": "stdout",
     "output_type": "stream",
     "text": [
      "Outcome values : tp:15534 fn:3094 fp:2296 tn:21937\n",
      "\n",
      "Accuracy : 87.4 %\n",
      "Precision : 87.1 %\n",
      "Recall : 83.4 %\n",
      "F1 Score : 0.852\n",
      "Specificity or True Negative Rate : 90.5 %\n"
     ]
    }
   ],
   "source": [
    "tp, fn, fp, tn = confusion_matrix(actual,predicted,labels=[1,0]).reshape(-1)\n",
    "print('Outcome values : tp:{} fn:{} fp:{} tn:{}\\n'.format(tp, fn, fp, tn) )\n",
    "\n",
    "\n",
    "sensitivity = round(tp/(tp+fn), 3)\n",
    "specificity = round(tn/(tn+fp), 3)\n",
    "accuracy = round((tp+tn)/(tp+fp+tn+fn), 3)\n",
    "precision = round(tp/(tp+fp), 3)\n",
    "f1Score = round((2*tp/(2*tp + fp + fn)), 3)\n",
    "\n",
    "from math import sqrt\n",
    "\n",
    "print('Accuracy :', round(accuracy*100, 2),'%')\n",
    "print('Precision :', round(precision*100, 2),'%')\n",
    "print('Recall :', round(sensitivity*100,2), '%')\n",
    "print('F1 Score :', f1Score)\n",
    "print('Specificity or True Negative Rate :', round(specificity*100,2), '%'  )\n"
   ]
  },
  {
   "cell_type": "markdown",
   "id": "39d86266",
   "metadata": {},
   "source": [
    "# Random Forest"
   ]
  },
  {
   "cell_type": "code",
   "execution_count": 53,
   "id": "de9a3ad7",
   "metadata": {},
   "outputs": [
    {
     "name": "stdout",
     "output_type": "stream",
     "text": [
      "Model Name:  LogisticRegression()\n",
      "Confusion matrix : \n",
      " [[15534  3094]\n",
      " [ 2296 21937]]\n"
     ]
    }
   ],
   "source": [
    "from sklearn.ensemble import RandomForestClassifier\n",
    "ModelRF = RandomForestClassifier()\n",
    "ModelLR.fit(x_train, y_train)\n",
    "\n",
    "y_pred = ModelLR.predict(x_test)\n",
    "\n",
    "y_pred_prob = ModelLR.predict_proba(x_test)\n",
    "\n",
    "print('Model Name: ',ModelLR )\n",
    "\n",
    "\n",
    "from sklearn.metrics import confusion_matrix\n",
    "actual = y_test\n",
    "predicted = y_pred\n",
    "matrix = confusion_matrix(actual,predicted, labels=[1,0],sample_weight=None, normalize=None)\n",
    "print('Confusion matrix : \\n', matrix)"
   ]
  },
  {
   "cell_type": "code",
   "execution_count": 54,
   "id": "7d235aa5",
   "metadata": {},
   "outputs": [
    {
     "name": "stdout",
     "output_type": "stream",
     "text": [
      "Outcome values : tp:15534 fn:3094 fp:2296 tn:21937\n",
      "\n",
      "Accuracy : 87.4 %\n",
      "Precision : 87.1 %\n",
      "Recall : 83.4 %\n",
      "F1 Score : 0.852\n",
      "Specificity or True Negative Rate : 90.5 %\n"
     ]
    }
   ],
   "source": [
    "tp, fn, fp, tn = confusion_matrix(actual,predicted,labels=[1,0]).reshape(-1)\n",
    "print('Outcome values : tp:{} fn:{} fp:{} tn:{}\\n'.format(tp, fn, fp, tn) )\n",
    "\n",
    "\n",
    "sensitivity = round(tp/(tp+fn), 3)\n",
    "specificity = round(tn/(tn+fp), 3)\n",
    "accuracy = round((tp+tn)/(tp+fp+tn+fn), 3)\n",
    "precision = round(tp/(tp+fp), 3)\n",
    "f1Score = round((2*tp/(2*tp + fp + fn)), 3)\n",
    "\n",
    "from math import sqrt\n",
    "\n",
    "print('Accuracy :', round(accuracy*100, 2),'%')\n",
    "print('Precision :', round(precision*100, 2),'%')\n",
    "print('Recall :', round(sensitivity*100,2), '%')\n",
    "print('F1 Score :', f1Score)\n",
    "print('Specificity or True Negative Rate :', round(specificity*100,2), '%'  )\n"
   ]
  },
  {
   "cell_type": "markdown",
   "id": "15cf4f56",
   "metadata": {},
   "source": [
    "# KNeighbourClassifier"
   ]
  },
  {
   "cell_type": "code",
   "execution_count": 55,
   "id": "511f1f22",
   "metadata": {},
   "outputs": [
    {
     "name": "stdout",
     "output_type": "stream",
     "text": [
      "Model Name:  LogisticRegression()\n",
      "Confusion matrix : \n",
      " [[15534  3094]\n",
      " [ 2296 21937]]\n"
     ]
    }
   ],
   "source": [
    "from sklearn.neighbors import KNeighborsClassifier\n",
    "ModelKNN = KNeighborsClassifier(n_neighbors=5)\n",
    "ModelLR.fit(x_train, y_train)\n",
    "\n",
    "y_pred = ModelLR.predict(x_test)\n",
    "\n",
    "y_pred_prob = ModelLR.predict_proba(x_test)\n",
    "\n",
    "print('Model Name: ',ModelLR )\n",
    "\n",
    "\n",
    "from sklearn.metrics import confusion_matrix\n",
    "actual = y_test\n",
    "predicted = y_pred\n",
    "matrix = confusion_matrix(actual,predicted, labels=[1,0],sample_weight=None, normalize=None)\n",
    "print('Confusion matrix : \\n', matrix)"
   ]
  },
  {
   "cell_type": "code",
   "execution_count": 56,
   "id": "a802f297",
   "metadata": {},
   "outputs": [
    {
     "name": "stdout",
     "output_type": "stream",
     "text": [
      "Outcome values : tp:15534 fn:3094 fp:2296 tn:21937\n",
      "\n",
      "Accuracy : 87.4 %\n",
      "Precision : 87.1 %\n",
      "Recall : 83.4 %\n",
      "F1 Score : 0.852\n",
      "Specificity or True Negative Rate : 90.5 %\n"
     ]
    }
   ],
   "source": [
    "tp, fn, fp, tn = confusion_matrix(actual,predicted,labels=[1,0]).reshape(-1)\n",
    "print('Outcome values : tp:{} fn:{} fp:{} tn:{}\\n'.format(tp, fn, fp, tn) )\n",
    "\n",
    "\n",
    "sensitivity = round(tp/(tp+fn), 3)\n",
    "specificity = round(tn/(tn+fp), 3)\n",
    "accuracy = round((tp+tn)/(tp+fp+tn+fn), 3)\n",
    "precision = round(tp/(tp+fp), 3)\n",
    "f1Score = round((2*tp/(2*tp + fp + fn)), 3)\n",
    "\n",
    "from math import sqrt\n",
    "\n",
    "print('Accuracy :', round(accuracy*100, 2),'%')\n",
    "print('Precision :', round(precision*100, 2),'%')\n",
    "print('Recall :', round(sensitivity*100,2), '%')\n",
    "print('F1 Score :', f1Score)\n",
    "print('Specificity or True Negative Rate :', round(specificity*100,2), '%'  )\n"
   ]
  },
  {
   "cell_type": "markdown",
   "id": "d59d4117",
   "metadata": {},
   "source": [
    "# RandomForestClassifier"
   ]
  },
  {
   "cell_type": "code",
   "execution_count": 57,
   "id": "b2e0e6e8",
   "metadata": {},
   "outputs": [
    {
     "name": "stdout",
     "output_type": "stream",
     "text": [
      "Model Name:  RandomForestClassifier()\n",
      "Confusion matrix : \n",
      " [[17545  1083]\n",
      " [  550 23683]]\n"
     ]
    }
   ],
   "source": [
    "from sklearn.ensemble import RandomForestClassifier\n",
    "ModelRF = RandomForestClassifier()\n",
    "ModelRF.fit(x_train, y_train)\n",
    "\n",
    "y_pred = ModelRF.predict(x_test)\n",
    "\n",
    "y_pred_prob = ModelRF.predict_proba(x_test)\n",
    "\n",
    "print('Model Name: ',ModelRF )\n",
    "\n",
    "\n",
    "from sklearn.metrics import confusion_matrix\n",
    "actual = y_test\n",
    "predicted = y_pred\n",
    "matrix = confusion_matrix(actual,predicted, labels=[1,0],sample_weight=None, normalize=None)\n",
    "print('Confusion matrix : \\n', matrix)"
   ]
  },
  {
   "cell_type": "code",
   "execution_count": 58,
   "id": "ee02137c",
   "metadata": {},
   "outputs": [
    {
     "name": "stdout",
     "output_type": "stream",
     "text": [
      "Outcome values : tp:17545 fn:1083 fp:550 tn:23683\n",
      "\n",
      "Accuracy : 96.2 %\n",
      "Precision : 97.0 %\n",
      "Recall : 94.2 %\n",
      "F1 Score : 0.956\n",
      "Specificity or True Negative Rate : 97.7 %\n"
     ]
    }
   ],
   "source": [
    "tp, fn, fp, tn = confusion_matrix(actual,predicted,labels=[1,0]).reshape(-1)\n",
    "print('Outcome values : tp:{} fn:{} fp:{} tn:{}\\n'.format(tp, fn, fp, tn) )\n",
    "\n",
    "\n",
    "sensitivity = round(tp/(tp+fn), 3)\n",
    "specificity = round(tn/(tn+fp), 3)\n",
    "accuracy = round((tp+tn)/(tp+fp+tn+fn), 3)\n",
    "precision = round(tp/(tp+fp), 3)\n",
    "f1Score = round((2*tp/(2*tp + fp + fn)), 3)\n",
    "\n",
    "from math import sqrt\n",
    "\n",
    "print('Accuracy :', round(accuracy*100, 2),'%')\n",
    "print('Precision :', round(precision*100, 2),'%')\n",
    "print('Recall :', round(sensitivity*100,2), '%')\n",
    "print('F1 Score :', f1Score)\n",
    "print('Specificity or True Negative Rate :', round(specificity*100,2), '%'  )\n"
   ]
  },
  {
   "cell_type": "code",
   "execution_count": null,
   "id": "2320938e",
   "metadata": {},
   "outputs": [],
   "source": []
  },
  {
   "cell_type": "code",
   "execution_count": null,
   "id": "41e25f9f",
   "metadata": {},
   "outputs": [],
   "source": []
  }
 ],
 "metadata": {
  "colab": {
   "provenance": []
  },
  "kernelspec": {
   "display_name": "Python 3 (ipykernel)",
   "language": "python",
   "name": "python3"
  },
  "language_info": {
   "codemirror_mode": {
    "name": "ipython",
    "version": 3
   },
   "file_extension": ".py",
   "mimetype": "text/x-python",
   "name": "python",
   "nbconvert_exporter": "python",
   "pygments_lexer": "ipython3",
   "version": "3.9.13"
  }
 },
 "nbformat": 4,
 "nbformat_minor": 5
}
